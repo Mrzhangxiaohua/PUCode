{
 "cells": [
  {
   "cell_type": "code",
   "execution_count": 1,
   "metadata": {},
   "outputs": [],
   "source": [
    "from sklearn.datasets import fetch_mldata\n",
    "import pandas as pd\n",
    "import numpy as np"
   ]
  },
  {
   "cell_type": "code",
   "execution_count": 2,
   "metadata": {},
   "outputs": [
    {
     "name": "stderr",
     "output_type": "stream",
     "text": [
      "/usr/local/anaconda3/envs/python35/lib/python3.5/site-packages/sklearn/utils/deprecation.py:77: DeprecationWarning: Function fetch_mldata is deprecated; fetch_mldata was deprecated in version 0.20 and will be removed in version 0.22\n",
      "  warnings.warn(msg, category=DeprecationWarning)\n",
      "/usr/local/anaconda3/envs/python35/lib/python3.5/site-packages/sklearn/utils/deprecation.py:77: DeprecationWarning: Function mldata_filename is deprecated; mldata_filename was deprecated in version 0.20 and will be removed in version 0.22\n",
      "  warnings.warn(msg, category=DeprecationWarning)\n"
     ]
    }
   ],
   "source": [
    "# 读取数据\n",
    "mnist = fetch_mldata('MNIST original',data_home='./datasets/')\n",
    "# 得到数据X和标签y\n",
    "X, y = mnist['data'], mnist['target']\n",
    "# 标签的副本拷贝\n",
    "y_orig = y.copy()"
   ]
  },
  {
   "cell_type": "code",
   "execution_count": 3,
   "metadata": {
    "scrolled": true
   },
   "outputs": [],
   "source": [
    "# 找出所有label为1的正样本的索引\n",
    "select_index = np.array(np.where(y==1)).reshape(-1).tolist()\n",
    "# 随机选择size大小的index作为positive数据\n",
    "select_index_size = np.random.choice(select_index,replace=False, size=3000)\n",
    "# 其他的标签都改成0，认为是unlabelled\n",
    "other_index = [ i for i in range(70000) if i not in select_index_size]\n",
    "y[other_index] = 0"
   ]
  },
  {
   "cell_type": "code",
   "execution_count": 4,
   "metadata": {},
   "outputs": [],
   "source": [
    "from sklearn.ensemble import RandomForestClassifier"
   ]
  },
  {
   "cell_type": "code",
   "execution_count": 5,
   "metadata": {},
   "outputs": [],
   "source": [
    "rf = RandomForestClassifier(n_estimators=1000, n_jobs=-1)"
   ]
  },
  {
   "cell_type": "code",
   "execution_count": 6,
   "metadata": {
    "scrolled": true
   },
   "outputs": [
    {
     "data": {
      "text/plain": [
       "RandomForestClassifier(bootstrap=True, class_weight=None, criterion='gini',\n",
       "            max_depth=None, max_features='auto', max_leaf_nodes=None,\n",
       "            min_impurity_decrease=0.0, min_impurity_split=None,\n",
       "            min_samples_leaf=1, min_samples_split=2,\n",
       "            min_weight_fraction_leaf=0.0, n_estimators=1000, n_jobs=-1,\n",
       "            oob_score=False, random_state=None, verbose=0,\n",
       "            warm_start=False)"
      ]
     },
     "execution_count": 6,
     "metadata": {},
     "output_type": "execute_result"
    }
   ],
   "source": [
    "rf.fit(X, y)"
   ]
  },
  {
   "cell_type": "code",
   "execution_count": 7,
   "metadata": {},
   "outputs": [],
   "source": [
    "results = pd.DataFrame({\n",
    "    'truth'      : y_orig,                    # True labels\n",
    "    'label'      : y,                         # Labels shown to models\n",
    "    'output_std' : rf.predict_proba(X)[:,1]   # Random forest's scores\n",
    "}, columns = ['truth', 'label', 'output_std'])"
   ]
  },
  {
   "cell_type": "code",
   "execution_count": 36,
   "metadata": {},
   "outputs": [
    {
     "name": "stdout",
     "output_type": "stream",
     "text": [
      "直接应用标准分类器，计算精确率Precision = 99.545 %\n"
     ]
    }
   ],
   "source": [
    "#模型输出的正样本为A，真正的正样本集合为B\n",
    "# 计算精确率（Precision）,指的是模型判别为正的所有样本中有多少是真正的正样本,则Precision（A,B）=|A∩B| / |A|\n",
    "A_B = len(results[(results['output_std'] >= 0.08) & (results['truth'] == 1)])\n",
    "A = len(results[results['output_std'] >= 0.08])\n",
    "Precision_A_B = A_B / A * 100\n",
    "print(\"直接应用标准分类器，计算精确率Precision = %.3f %%\" % Precision_A_B)"
   ]
  },
  {
   "cell_type": "code",
   "execution_count": 37,
   "metadata": {},
   "outputs": [
    {
     "name": "stdout",
     "output_type": "stream",
     "text": [
      "直接应用标准分类器，计算精确率Recall = 97.220 %\n"
     ]
    }
   ],
   "source": [
    "# 计算召回率（Recall）,指的是所有正样本有多少被模型判定为正样本Recall（A,B） = |A∩B| / |B|\n",
    "B = len(results[results['truth'] == 1])\n",
    "Recall_A_B = A_B / B * 100\n",
    "print(\"直接应用标准分类器，计算精确率Recall = %.3f %%\" % Recall_A_B)"
   ]
  }
 ],
 "metadata": {
  "kernelspec": {
   "display_name": "Python 3",
   "language": "python",
   "name": "python3"
  },
  "language_info": {
   "codemirror_mode": {
    "name": "ipython",
    "version": 3
   },
   "file_extension": ".py",
   "mimetype": "text/x-python",
   "name": "python",
   "nbconvert_exporter": "python",
   "pygments_lexer": "ipython3",
   "version": "3.5.6"
  }
 },
 "nbformat": 4,
 "nbformat_minor": 2
}
